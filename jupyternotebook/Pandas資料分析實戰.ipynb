{
 "cells": [
  {
   "cell_type": "code",
   "execution_count": 1,
   "id": "8bc910ec",
   "metadata": {},
   "outputs": [],
   "source": [
    "import numpy as np\n",
    "import pandas as pd"
   ]
  },
  {
   "cell_type": "code",
   "execution_count": 10,
   "id": "7316747c",
   "metadata": {},
   "outputs": [
    {
     "name": "stdout",
     "output_type": "stream",
     "text": [
      "admin.           10422\n",
      "blue-collar       9254\n",
      "technician        6743\n",
      "services          3968\n",
      "management        2924\n",
      "retired           1720\n",
      "entrepreneur      1456\n",
      "self-employed     1421\n",
      "housemaid         1060\n",
      "unemployed        1014\n",
      "student            875\n",
      "unknown            330\n",
      "teacher              1\n",
      "Name: job, dtype: int64\n"
     ]
    }
   ],
   "source": [
    "# 類別資料(Categorical Data)\n",
    "# Ref-Addr. : https://www.learncodewithmike.com/2022/01/pandas-categorical-data.html\n",
    "\"\"\"\n",
    "如果有在實作資料分析或機器學習的朋友就會知道，為了要群組或分類相似的資料，\n",
    "會使用標籤、代號或數字等類別資料(Categorical Data)進行分群。像是影像辨識，\n",
    "將相近的圖片使用特定的標籤來代表，提升分析或訓練模型的效率。\n",
    "\n",
    "類別資料(Categorical Data) : \n",
    "也就是預先定義的數個「標籤」或「數字」等，來代表資料集裡特定群組的資料。\n",
    "\n",
    "value_counts() :\n",
    "「job(職業)」欄位的資料就只會包含預先定義的類別資料(Categorical Data)，\n",
    "可以透過Pandas套件的value_counts()來檢視各類別資料(Categorical Data)的筆數。\n",
    "\"\"\"\n",
    "import pandas as pd\n",
    "df = pd.read_csv('bank-direct-marketing-campaigns.csv')\n",
    "\n",
    "#df['job'] = df['job'].str.upper()  #轉為大寫\n",
    "#df['job'] = df['job'].str.lower()  #轉為小寫\n",
    "#df['job'] = df['job'].str.strip()  #去除前後空白\n",
    "\n",
    "print(df['job'].value_counts()) "
   ]
  },
  {
   "cell_type": "code",
   "execution_count": 11,
   "id": "66f9607d",
   "metadata": {},
   "outputs": [
    {
     "name": "stdout",
     "output_type": "stream",
     "text": [
      "     job_category\n",
      "0          admin.\n",
      "1     blue-collar\n",
      "2      technician\n",
      "3        services\n",
      "4      management\n",
      "5         retired\n",
      "6    entrepreneur\n",
      "7   self-employed\n",
      "8       housemaid\n",
      "9      unemployed\n",
      "10        student\n",
      "11        unknown\n"
     ]
    }
   ],
   "source": [
    "# 類別資料(Categorical Data)\n",
    "# Ref-Addr. : https://www.learncodewithmike.com/2022/01/pandas-categorical-data.html\n",
    "\"\"\"\n",
    "新增job-category.csv檔案，存放「job(職業)」欄位的類別資料(Categorical Data)成員\n",
    "\"\"\"\n",
    "import pandas as pd\n",
    " \n",
    "df = pd.read_csv('bank-direct-marketing-campaigns.csv')\n",
    "job_category = pd.read_csv('job-category.csv')\n",
    "print(job_category)"
   ]
  },
  {
   "cell_type": "code",
   "execution_count": 12,
   "id": "9872cb33",
   "metadata": {},
   "outputs": [
    {
     "name": "stdout",
     "output_type": "stream",
     "text": [
      "{'teacher'}\n"
     ]
    }
   ],
   "source": [
    "# 類別資料(Categorical Data)\n",
    "# Ref-Addr. : https://www.learncodewithmike.com/2022/01/pandas-categorical-data.html\n",
    "\"\"\"\n",
    "在原資料集，使用Set集合，取「job(職業)」欄位的唯一值，再透過difference()方法(Method)，\n",
    "取出與類別資料(Categorical Data)成員不一樣的值。\n",
    "\"\"\"\n",
    "import pandas as pd\n",
    " \n",
    "df = pd.read_csv('bank-direct-marketing-campaigns.csv')\n",
    "job_category = pd.read_csv('job-category.csv')\n",
    "difference_category = set(df['job']).difference(job_category['job_category'])\n",
    "print(difference_category)  #執行結果 {'teacher'}"
   ]
  },
  {
   "cell_type": "code",
   "execution_count": 13,
   "id": "d5810652",
   "metadata": {},
   "outputs": [
    {
     "name": "stdout",
     "output_type": "stream",
     "text": [
      "   age      job  marital    education default housing loan    contact month  \\\n",
      "4   56  teacher  married  high.school      no      no  yes  telephone   may   \n",
      "\n",
      "  day_of_week  campaign  pdays  previous     poutcome  emp.var.rate  \\\n",
      "4         mon         1    999         0  nonexistent           1.1   \n",
      "\n",
      "   cons.price.idx  cons.conf.idx  euribor3m  nr.employed   y  \n",
      "4          93.994          -36.4      4.857       5191.0  no  \n"
     ]
    }
   ],
   "source": [
    "# 類別資料(Categorical Data)\n",
    "# Ref-Addr. : https://www.learncodewithmike.com/2022/01/pandas-categorical-data.html\n",
    "\"\"\"\n",
    "而要檢視這筆非類別資料(Categorical Data)成員的各欄位資料，則可以利用Pandas套件的isin()方法(Method)來達成\n",
    "\"\"\"\n",
    "import pandas as pd\n",
    " \n",
    "df = pd.read_csv('bank-direct-marketing-campaigns.csv')\n",
    "job_category = pd.read_csv('job-category.csv')\n",
    "difference_category = set(df['job']).difference(job_category['job_category'])\n",
    "difference_row = df['job'].isin(difference_category)\n",
    "print(df[difference_row])"
   ]
  },
  {
   "cell_type": "code",
   "execution_count": null,
   "id": "7714a0f6",
   "metadata": {},
   "outputs": [],
   "source": []
  }
 ],
 "metadata": {
  "kernelspec": {
   "display_name": "Python 3 (ipykernel)",
   "language": "python",
   "name": "python3"
  },
  "language_info": {
   "codemirror_mode": {
    "name": "ipython",
    "version": 3
   },
   "file_extension": ".py",
   "mimetype": "text/x-python",
   "name": "python",
   "nbconvert_exporter": "python",
   "pygments_lexer": "ipython3",
   "version": "3.9.13"
  }
 },
 "nbformat": 4,
 "nbformat_minor": 5
}
